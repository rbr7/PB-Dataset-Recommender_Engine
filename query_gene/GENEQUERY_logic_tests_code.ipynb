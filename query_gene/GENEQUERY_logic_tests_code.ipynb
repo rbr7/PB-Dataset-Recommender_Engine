{
 "cells": [
  {
   "cell_type": "markdown",
   "metadata": {},
   "source": [
    "---\n",
    "title: Genequery Logic and tests.\n",
    "authors:\n",
    "- Rohan\n",
    "tags:\n",
    "- Fisher Exact test + code\n",
    "- Fisher Enrichment Analysis test + code\n",
    "- overlap \n",
    "- process .gmt file \n",
    "\n",
    "created_at: 2019-04-29\n",
    "updated_at: 2019-05-12\n",
    "tldr: Decoding Genequery logic and getting results 100%.\n",
    "---"
   ]
  },
  {
   "cell_type": "code",
   "execution_count": null,
   "metadata": {},
   "outputs": [],
   "source": []
  },
  {
   "cell_type": "markdown",
   "metadata": {},
   "source": [
    "### Import Libraries"
   ]
  },
  {
   "cell_type": "code",
   "execution_count": 2,
   "metadata": {},
   "outputs": [],
   "source": [
    "import pandas as pd\n",
    "import numpy as np\n",
    "import math\n",
    "import re"
   ]
  },
  {
   "cell_type": "code",
   "execution_count": null,
   "metadata": {},
   "outputs": [],
   "source": []
  },
  {
   "cell_type": "markdown",
   "metadata": {},
   "source": [
    "### Reading query file and preparing list"
   ]
  },
  {
   "cell_type": "code",
   "execution_count": 17,
   "metadata": {},
   "outputs": [],
   "source": [
    "col = [\"ids\"]\n",
    "\n",
    "hypoxia_sign = pd.read_csv(\"query_1(gQ_ex).txt\", header = None, names = col)\n",
    "\n",
    "QUERY = hypoxia_sign['ids'].values"
   ]
  },
  {
   "cell_type": "markdown",
   "metadata": {},
   "source": [
    "### Computing pValue using Fisher Exact Test"
   ]
  },
  {
   "cell_type": "code",
   "execution_count": 9,
   "metadata": {},
   "outputs": [],
   "source": [
    "universeSize = 7000     \n",
    "logFactorials = np.repeat( 0.0 , universeSize+1 )\n",
    "\n",
    "def make_logF(logFactorials):\n",
    "    for i in range(1,universeSize):\n",
    "        logFactorials[i] = logFactorials[i-1] + math.log(i)\n",
    "    return(logFactorials)\n",
    "        \n",
    "    \n",
    "logFactorials = make_logF(logFactorials)\n",
    "\n",
    "def calculateHypergeomP(a,b,c,d):\n",
    "    return(np.exp(logFactorials[a+b]+logFactorials[c+d]+logFactorials[a+c]+logFactorials[b+d]-logFactorials[a+b+c+d]-logFactorials[a]-logFactorials[b]-logFactorials[c]-logFactorials[d]))\n",
    "\n",
    "def righttailPvalue(a,b,c,d):\n",
    "    ra = a\n",
    "    rb = b\n",
    "    rc = c\n",
    "    rd = d\n",
    "    \n",
    "    if(ra+rb+rc+rd < len(logFactorials)):\n",
    "        print(\"Sum of arguments within limit\")\n",
    "    else:\n",
    "        print(\"Sum of the arguments must be not greater than universe: $a + $b + $c + $d > ${logFactorials.size - 1}\")\n",
    "        return (None)\n",
    "        \n",
    "        \n",
    "    pSum = 0.0\n",
    "    p = calculateHypergeomP(ra,rb,rc,rd)\n",
    "    \n",
    "    while((rc >= 0) and (rb >= 0)):\n",
    "        if(p != 0):\n",
    "            pSum += p\n",
    "            \n",
    "        if((rb==0) or (rc == 0)):\n",
    "            \n",
    "            break\n",
    "        \n",
    "        ra = ra+1\n",
    "        rb = rb-1\n",
    "        rc = rc-1\n",
    "        rd = rd+1\n",
    "    \n",
    "\n",
    "        p= calculateHypergeomP(ra,rb,rc,rd)\n",
    "          \n",
    "    return(pSum)"
   ]
  },
  {
   "cell_type": "markdown",
   "metadata": {},
   "source": [
    "### Testing fisherExact Test"
   ]
  },
  {
   "cell_type": "code",
   "execution_count": 10,
   "metadata": {},
   "outputs": [
    {
     "name": "stdout",
     "output_type": "stream",
     "text": [
      "Sum of arguments within limit\n"
     ]
    },
    {
     "data": {
      "text/plain": [
       "1.6629173637850388e-29"
      ]
     },
     "execution_count": 10,
     "metadata": {},
     "output_type": "execute_result"
    }
   ],
   "source": [
    "righttailPvalue(16,31,11,6800)"
   ]
  },
  {
   "cell_type": "markdown",
   "metadata": {},
   "source": [
    "### Convert strings and process\n",
    "### - processing modules and convert to numeric for Overlap"
   ]
  },
  {
   "cell_type": "code",
   "execution_count": 24,
   "metadata": {},
   "outputs": [],
   "source": [
    "def convert(module):\n",
    "    module = module.rstrip()\n",
    "    \n",
    "    mod = module.split(',')\n",
    "    mod = list(map(int, mod))\n",
    "    \n",
    "    return(mod)"
   ]
  },
  {
   "cell_type": "markdown",
   "metadata": {},
   "source": [
    "### Process GSE as file object to DataFrame"
   ]
  },
  {
   "cell_type": "code",
   "execution_count": 23,
   "metadata": {},
   "outputs": [],
   "source": [
    "def process_gse(open_var):\n",
    "    \n",
    "    DF = pd.DataFrame(open_var)\n",
    "    DF.columns = [\"mod_ID\"]\n",
    "    \n",
    "    DF['mod_number'] = DF['mod_ID'].str.split('#').str[-1]\n",
    "    \n",
    "    DF['entrez'] = DF['mod_number'].str.split('\\t').str[-1]\n",
    "    \n",
    "    DF['mod_ID'] = DF['mod_ID'].str.split('#').str[0]\n",
    "    \n",
    "    DF['mod_number'] = DF['mod_number'].str.split('\\t').str[0]\n",
    "\n",
    "    DF[\"Entrez\"] = DF.entrez.apply(convert)\n",
    "    del DF[\"entrez\"]\n",
    "    \n",
    "    return(DF)\n",
    "    "
   ]
  },
  {
   "cell_type": "markdown",
   "metadata": {},
   "source": [
    "### Compute Overlap\n",
    "### - returns intersection Size "
   ]
  },
  {
   "cell_type": "code",
   "execution_count": 11,
   "metadata": {},
   "outputs": [],
   "source": [
    "def Overlap(module):\n",
    "    \n",
    "    ovlp = set(QUERY).intersection(set(module))\n",
    "    \n",
    "    return(len(ovlp))"
   ]
  },
  {
   "cell_type": "markdown",
   "metadata": {},
   "source": [
    "### Compute Bonferroni Significance Value as Adjusted pValue\n",
    "\n",
    "### - matrix here is a single GSE_ID as a object (Dataframe)\n",
    "### - m_count is the moduleCount for the species"
   ]
  },
  {
   "cell_type": "code",
   "execution_count": 21,
   "metadata": {},
   "outputs": [],
   "source": [
    "min_logp = -325.0\n",
    "bonferroniMaxPvalue = 0.01\n",
    "\n",
    "def bonfS(m_count, matrix):\n",
    "    \n",
    "    mod_count = m_count\n",
    "    GSE_obj = matrix\n",
    "    G_count = GSE_obj.Size.count()\n",
    "    \n",
    "    \n",
    "    queryUniverseOverlap = sum(GSE_obj.Intersection_size) \n",
    "    \n",
    "    if(queryUniverseOverlap == 0):\n",
    "        return(None)\n",
    "\n",
    "    universeSize = sum(GSE_obj.Size) \n",
    "    \n",
    "    \n",
    "    \n",
    "    GSE_obj[\"pval\"] = 0.0\n",
    "    GSE_obj[\"apval\"] = 0.0\n",
    "    GSE_obj[\"logpval\"] = 0.0\n",
    "    GSE_obj[\"logapval\"] = 0.0\n",
    "    \n",
    "   \n",
    "   # m = 0\n",
    "    \n",
    "    \n",
    "    for i in GSE_obj.index:\n",
    "        if(GSE_obj.at[i,'Intersection_size'] > 0):\n",
    "        \n",
    "            moduleAndQuery = GSE_obj.at[i,'Intersection_size']\n",
    "        \n",
    "            moduleAndNotQuery = GSE_obj.at[i,'Size'] - GSE_obj.at[i,'Intersection_size']\n",
    "        \n",
    "            queryAndNotModule = queryUniverseOverlap - moduleAndQuery\n",
    "        \n",
    "            restOfGenes = universeSize - moduleAndQuery - queryAndNotModule - moduleAndNotQuery\n",
    "        \n",
    "        \n",
    "            pvalue = righttailPvalue(moduleAndQuery,moduleAndNotQuery,queryAndNotModule,restOfGenes)\n",
    "        \n",
    "        \n",
    "            GSE_obj.at[i,\"pval\"] = pvalue\n",
    "        \n",
    "        # Computing AdjustedpValue\n",
    "        \n",
    "            adjustedPvalue = pvalue * mod_count\n",
    "        \n",
    "        \n",
    "            if (adjustedPvalue <= bonferroniMaxPvalue):\n",
    "                GSE_obj.at[i,\"apval\"] = adjustedPvalue\n",
    "                \n",
    "                \n",
    "                if(pvalue > 0):\n",
    "                    GSE_obj.at[i,\"logpval\"] = math.log10(pvalue)\n",
    "                else:\n",
    "                    GSE_obj.at[i,\"logpval\"] = min_logp\n",
    "                \n",
    "                \n",
    "                if(adjustedPvalue > 0):\n",
    "                    GSE_obj.at[i,\"logapval\"] = math.log10(adjustedPvalue)\n",
    "                else:\n",
    "                    GSE_obj.at[i,\"logapval\"] = min_logp\n",
    "\n",
    "                    \n",
    "            else:\n",
    "                GSE_obj.at[i,\"apval\"] = None\n",
    "        \n",
    "       # m = i\n",
    "    \n",
    "    \n",
    "    #print(m)    \n",
    "    \n",
    "    #df.isnull().values.any()\n",
    "    \n",
    "    #nl = GSE_obj[GSE_obj.apval.isnull()]\n",
    "    #print(n)\n",
    "    #c = nl.Size.count()\n",
    "    \n",
    "    #nrow = GSE_obj[GSE_obj.apval.isnull()]\n",
    "    #print(nan_rows)\n",
    "    \n",
    "    #if(c == G_count):\n",
    "    #    return(None)\n",
    "    \n",
    "    #if(c != 0):\n",
    "    #    GSE_obj = GSE_obj[GSE_obj.apval.notnull()]\n",
    "    \n",
    "    #print(len(GSE_obj[GSE_obj.apval.isnull()]))\n",
    "    \n",
    "    #if(GSE_obj.pval)\n",
    "    \n",
    "    #GSE_obj[\"logpval\"] = [math.log10(x) for x in GSE_obj.pval]\n",
    "    \n",
    "    #GSE_obj[\"logapval\"] = [math.log10(x) for x in GSE_obj.apval]\n",
    "    \n",
    "    \n",
    "    #print(df)\n",
    "    \n",
    "    return(GSE_obj)\n",
    "        "
   ]
  },
  {
   "cell_type": "code",
   "execution_count": null,
   "metadata": {},
   "outputs": [],
   "source": []
  },
  {
   "cell_type": "markdown",
   "metadata": {},
   "source": [
    "### Compute Results of Genequery and return ranked list\n",
    "\n",
    "### - rank_func takes Signature list and species.gmt as input"
   ]
  },
  {
   "cell_type": "code",
   "execution_count": 12,
   "metadata": {},
   "outputs": [],
   "source": [
    "\n",
    "def rank_func(query, Species_file):\n",
    "    \n",
    "    spm = Species_file\n",
    "    \n",
    "    fil = open(spm, \"r\")\n",
    "    sp_list = fil.readlines()\n",
    "    \n",
    "    moduleCount = len(sp_list)        \n",
    "    print(moduleCount)\n",
    "    \n",
    "    df = process_gse(sp_list)\n",
    "    fil.close()\n",
    "    \n",
    "    df[\"Size\"] = [len(x) for x in df.Entrez]\n",
    "    \n",
    "    df[\"Intersection_size\"] = df.Entrez.apply(Overlap)\n",
    "    \n",
    "    \n",
    "    g_list = list(df.groupby(\"mod_ID\"))\n",
    "    \n",
    "    array = []\n",
    "    \n",
    "    for i in range(0,len(g_list)):\n",
    "        lst_1 = g_list[i]\n",
    "        lst_2 = lst_1[1]\n",
    "        if(lst_2[\"Intersection_size\"].sum() == 0):\n",
    "            continue\n",
    "        else:\n",
    "            df_obj = lst_2\n",
    "            enrch_modules = bonfS(moduleCount, df_obj)    \n",
    "        \n",
    "        \n",
    "        array.append(enrch_modules)\n",
    "    \n",
    "    \n",
    "    #print(array)\n",
    "    \n",
    "    \n",
    "    return(array)"
   ]
  },
  {
   "cell_type": "markdown",
   "metadata": {},
   "source": [
    "### Reading the Module and parsing to rank function\n",
    "\n",
    "### - \" result \" array stores the results for gea computation"
   ]
  },
  {
   "cell_type": "code",
   "execution_count": 13,
   "metadata": {},
   "outputs": [],
   "source": [
    "\n",
    "FILE = \"mm_modules.txt\"\n",
    "\n",
    "## Results of computation are stored as array in \" result \"\n",
    "\n",
    "# result = rank_func(QUERY, FILE)"
   ]
  },
  {
   "cell_type": "markdown",
   "metadata": {},
   "source": [
    "### Concatenate results as one table"
   ]
  },
  {
   "cell_type": "code",
   "execution_count": 4,
   "metadata": {},
   "outputs": [],
   "source": [
    "# fdf = pd.concat(result)"
   ]
  },
  {
   "cell_type": "code",
   "execution_count": 37,
   "metadata": {},
   "outputs": [],
   "source": [
    "RESULT = fdf[ fdf[\"logapval\"] < 0 ]"
   ]
  },
  {
   "cell_type": "code",
   "execution_count": 39,
   "metadata": {},
   "outputs": [],
   "source": [
    "gQ_res = RESULT.sort_values(['logapval'], ascending=[True])"
   ]
  },
  {
   "cell_type": "code",
   "execution_count": 14,
   "metadata": {},
   "outputs": [],
   "source": [
    "# gQ_res"
   ]
  },
  {
   "cell_type": "markdown",
   "metadata": {},
   "source": [
    "### Getting series column"
   ]
  },
  {
   "cell_type": "code",
   "execution_count": 3,
   "metadata": {},
   "outputs": [],
   "source": [
    "# gQ_res['series'] = gQ_res['mod_ID'].str.split('_').str[0]\n"
   ]
  },
  {
   "cell_type": "code",
   "execution_count": 70,
   "metadata": {},
   "outputs": [],
   "source": [
    "gQ_res = gQ_res[gQ_res[\"mod_number\"] != '0' ]"
   ]
  },
  {
   "cell_type": "code",
   "execution_count": 16,
   "metadata": {},
   "outputs": [],
   "source": [
    "# gQ_res"
   ]
  },
  {
   "cell_type": "markdown",
   "metadata": {},
   "source": [
    "### Reading Original Genequery results"
   ]
  },
  {
   "cell_type": "code",
   "execution_count": 47,
   "metadata": {},
   "outputs": [],
   "source": [
    "objt = pd.read_csv(\"genequery_search_result_16-50_4-5-2019.csv\")"
   ]
  },
  {
   "cell_type": "code",
   "execution_count": 17,
   "metadata": {},
   "outputs": [],
   "source": [
    "# objt"
   ]
  },
  {
   "cell_type": "code",
   "execution_count": 74,
   "metadata": {},
   "outputs": [],
   "source": [
    "gQ_res.to_csv(\"results_gQ.csv\", sep='\\t', encoding='utf-8')\n"
   ]
  },
  {
   "cell_type": "code",
   "execution_count": null,
   "metadata": {},
   "outputs": [],
   "source": []
  },
  {
   "cell_type": "markdown",
   "metadata": {},
   "source": [
    "### Total number of modules in results of genequery"
   ]
  },
  {
   "cell_type": "code",
   "execution_count": 72,
   "metadata": {},
   "outputs": [
    {
     "data": {
      "text/plain": [
       "mod_ID               415\n",
       "mod_number           415\n",
       "Entrez               415\n",
       "Size                 415\n",
       "Intersection_size    415\n",
       "pval                 415\n",
       "apval                415\n",
       "logpval              415\n",
       "logapval             415\n",
       "series               415\n",
       "dtype: int64"
      ]
     },
     "execution_count": 72,
     "metadata": {},
     "output_type": "execute_result"
    }
   ],
   "source": [
    "gQ_res.count()"
   ]
  },
  {
   "cell_type": "code",
   "execution_count": null,
   "metadata": {},
   "outputs": [],
   "source": []
  }
 ],
 "metadata": {
  "kernelspec": {
   "display_name": "Python 3",
   "language": "python",
   "name": "python3"
  },
  "language_info": {
   "codemirror_mode": {
    "name": "ipython",
    "version": 3
   },
   "file_extension": ".py",
   "mimetype": "text/x-python",
   "name": "python",
   "nbconvert_exporter": "python",
   "pygments_lexer": "ipython3",
   "version": "3.7.0"
  }
 },
 "nbformat": 4,
 "nbformat_minor": 2
}

{
 "cells": [
  {
   "cell_type": "markdown",
   "metadata": {},
   "source": [
    "---\n",
    "title: Genequery Logic and tests.\n",
    "authors:\n",
    "- B. Rohan\n",
    "tags:\n",
    "- Fisher Exact test + code\n",
    "- Fisher Enrichment Analysis test + code\n",
    "- overlap \n",
    "- process .gmt file \n",
    "\n",
    "created_at: 2019-04-29\n",
    "updated_at: 2019-05-16\n",
    "tldr: Decoding Genequery logic and getting results 100%.\n",
    "---"
   ]
  },
  {
   "cell_type": "code",
   "execution_count": null,
   "metadata": {},
   "outputs": [],
   "source": []
  },
  {
   "cell_type": "markdown",
   "metadata": {},
   "source": [
    "### Import Libraries"
   ]
  },
  {
   "cell_type": "code",
   "execution_count": 1,
   "metadata": {},
   "outputs": [],
   "source": [
    "import pandas as pd\n",
    "import numpy as np\n",
    "import math\n",
    "import pickle"
   ]
  },
  {
   "cell_type": "code",
   "execution_count": 3,
   "metadata": {},
   "outputs": [],
   "source": [
    "# To test if species input are correct\n",
    "\n",
    "def test_species(speciesQy, speciesDb):\n",
    "    Specie = [\"hs\", \"mm\", \"rt\"]\n",
    "    \n",
    "    spQ = speciesQy\n",
    "    spD = speciesDb\n",
    "    \n",
    "    if( (spQ.isalpha()) and (spD.isalpha())):\n",
    "        spQ = spQ.lower()\n",
    "        spD = spD.lower()\n",
    "        \n",
    "        if(spQ in Specie):\n",
    "            A = spQ\n",
    "        else:\n",
    "            print(\"Query specie -> {}  is not valid\".format(spQ))\n",
    "            return None\n",
    "        \n",
    "        if(spD in Specie):\n",
    "            B = spD\n",
    "        else:\n",
    "            print(\"Database specie -> {}  is not in Database\".format(spD))\n",
    "            return None\n",
    "    \n",
    "    else:\n",
    "        print(\"Species entered are Incorrect !!!\")\n",
    "        return None\n",
    "    \n",
    "    \n",
    "    return(A , B)    "
   ]
  },
  {
   "cell_type": "markdown",
   "metadata": {},
   "source": [
    "### Reading query file and preparing list"
   ]
  },
  {
   "cell_type": "code",
   "execution_count": 4,
   "metadata": {},
   "outputs": [],
   "source": [
    "# Function to process Query file ( xyz.txt )\n",
    "\n",
    "def process_Query(file):\n",
    "    \n",
    "    colmn = [\"Signature\"]\n",
    "    sign = pd.read_csv(\"{}\".format(file), header = None, names = colmn)\n",
    "\n",
    "    sp_Result = test_species(sign.iat[0,0], sign.iat[1,0])  # to test if species entered are valid\n",
    "\n",
    "    \n",
    "    sign = sign[2:].Signature.tolist()\n",
    "    sign = list(map(int, sign))\n",
    "\n",
    "\n",
    "    if( (sp_Result) and ( (sp_Result[0]) == (sp_Result[1]) ) ):\n",
    "        moduleSpecie = sp_Result[1]\n",
    "        \n",
    "        print(\"Genes Entered : {}\".format(len(sign)))\n",
    "        sign = np.unique(sign)\n",
    "        print(\"Unique Entrez IDs : {}\".format(len(sign)))\n",
    "    \n",
    "    elif( (sp_Result) and ( (sp_Result[0]) != (sp_Result[1]) ) ):\n",
    "        moduleSpecie = sp_Result[1]\n",
    "    \n",
    "        print(\"Genes Entered : {}\".format(len(sign)))\n",
    "    \n",
    "        sign = Orthology_converter(sign, moduleSpecie)    # Convert user genes to orthologous genes\n",
    "    \n",
    "        sign = np.unique(sign)\n",
    "        print(\"Unique Entrez IDs : {}\".format(len(sign)))\n",
    "    \n",
    "    else: \n",
    "        return None\n",
    "    \n",
    "    \n",
    "    return(sign, moduleSpecie)"
   ]
  },
  {
   "cell_type": "markdown",
   "metadata": {},
   "source": [
    "### Convert user genes to Orthogous genes"
   ]
  },
  {
   "cell_type": "code",
   "execution_count": 5,
   "metadata": {},
   "outputs": [],
   "source": [
    "# Function to convert genes to orthologous genes\n",
    "\n",
    "def Orthology_converter(signature, DBspecie):\n",
    "    \n",
    "    Orthog = pd.read_pickle(\"Orthology.pkl\")\n",
    "    \n",
    "    orth_df_1 = Orthog[Orthog.entrez.isin(signature)]\n",
    "    \n",
    "    orth_lst = orth_df_1.groupId.values.tolist()\n",
    "    \n",
    "    orth_df_2 = Orthog[Orthog.groupId.isin(orth_lst)]\n",
    "    \n",
    "    convG = orth_df_2.entrez.where( orth_df_2.species == DBspecie ).dropna().tolist()\n",
    "    \n",
    "    convG = [round(x) for x in convG]\n",
    "    \n",
    "    return(convG)"
   ]
  },
  {
   "cell_type": "markdown",
   "metadata": {},
   "source": [
    "### Computing pValue using Fisher Exact Test"
   ]
  },
  {
   "cell_type": "code",
   "execution_count": 30,
   "metadata": {},
   "outputs": [],
   "source": [
    "# Overestimated Gene World Size = 7000 (Genes supposed to be in a GSE)\n",
    "\n",
    "universeSize = 7000     \n",
    "logFactorials = np.repeat( 0.0 , universeSize+1 )\n",
    "\n",
    "def make_logF(logFactorials):\n",
    "    for i in range(1,universeSize):\n",
    "        logFactorials[i] = logFactorials[i-1] + math.log(i)\n",
    "    return(logFactorials)\n",
    "        \n",
    "    \n",
    "logFactorials = make_logF(logFactorials)\n",
    "\n",
    "# Hypergeometric test\n",
    "\n",
    "def calculateHypergeomP(a,b,c,d):\n",
    "    return(np.exp(logFactorials[a+b]+logFactorials[c+d]+logFactorials[a+c]+logFactorials[b+d]-logFactorials[a+b+c+d]-logFactorials[a]-logFactorials[b]-logFactorials[c]-logFactorials[d]))\n",
    "\n",
    "# Fisher Exact test to compute significance \n",
    "\n",
    "def righttailPvalue(a,b,c,d):\n",
    "    ra = a\n",
    "    rb = b\n",
    "    rc = c\n",
    "    rd = d\n",
    "    \n",
    "    \n",
    "    if(ra+rb+rc+rd > len(logFactorials)):\n",
    "        print(\"Sum of the arguments must be not greater than universe: $a + $b + $c + $d > ${logFactorials.size - 1}\")\n",
    "        return (None)\n",
    "        \n",
    "        \n",
    "    pSum = 0.0\n",
    "    p = calculateHypergeomP(ra,rb,rc,rd)\n",
    "    \n",
    "    while((rc >= 0) and (rb >= 0)):\n",
    "        if(p != 0):\n",
    "            pSum += p\n",
    "            \n",
    "        if((rb==0) or (rc == 0)):\n",
    "            \n",
    "            break\n",
    "        \n",
    "        ra = ra+1\n",
    "        rb = rb-1\n",
    "        rc = rc-1\n",
    "        rd = rd+1\n",
    "    \n",
    "    # Computing pValue\n",
    "\n",
    "        p= calculateHypergeomP(ra,rb,rc,rd)\n",
    "          \n",
    "    return(pSum)"
   ]
  },
  {
   "cell_type": "markdown",
   "metadata": {},
   "source": [
    "### Testing fisherExact Test"
   ]
  },
  {
   "cell_type": "code",
   "execution_count": 6,
   "metadata": {},
   "outputs": [
    {
     "data": {
      "text/plain": [
       "1.6629173637850388e-29"
      ]
     },
     "execution_count": 6,
     "metadata": {},
     "output_type": "execute_result"
    }
   ],
   "source": [
    "righttailPvalue(16,31,11,6800)"
   ]
  },
  {
   "cell_type": "markdown",
   "metadata": {},
   "source": [
    "### Function to compute Bonferroni Correction and return ranked results"
   ]
  },
  {
   "cell_type": "code",
   "execution_count": 74,
   "metadata": {},
   "outputs": [],
   "source": [
    "def rank_func(QUERY, Specie_DF):\n",
    "    \n",
    "    min_logp = -325.0\n",
    "    bonferroniMaxPvalue = 0.01\n",
    "    \n",
    "    \n",
    "    moduleCount = len(Specie_DF.index)       \n",
    "    \n",
    "    \n",
    "    Specie_DF[\"Intersection_Size\"] = Specie_DF.Entrez.apply(lambda x : len(set(QUERY).intersection(set(x))))\n",
    "    \n",
    "    \n",
    "    Spec = Specie_DF[[\"Module\",\"Number\",\"Size\",\"Intersection_Size\"]].copy() # drop Entrez column\n",
    "\n",
    "    \n",
    "    Spec[\"Universe\"] = Spec[\"Module\"].map(Spec.groupby(\"Module\")[\"Size\"].sum())\n",
    "    Spec[\"Query_overlap_Universe\"] = Spec[\"Module\"].map(Spec.groupby(\"Module\")[\"Intersection_Size\"].sum())\n",
    "    \n",
    "    \n",
    "    Spec = Spec[(Spec[\"Number\"] > 0) & (Spec[\"Intersection_Size\"] > 0)]\n",
    "    \n",
    "    \n",
    "    Spec[\"MnotQ\"] = Spec[\"Size\"] - Spec[\"Intersection_Size\"]\n",
    "    Spec[\"QnotM\"] = Spec[\"Query_overlap_Universe\"] - Spec[\"Intersection_Size\"]\n",
    "    Spec[\"rest\"] = Spec[\"Universe\"] - Spec[\"QnotM\"] - Spec[\"MnotQ\"] - Spec[\"Intersection_Size\"]\n",
    "    \n",
    "    \n",
    "    \n",
    "    Spec[\"pval\"] = np.vectorize(righttailPvalue)(Spec['Intersection_Size'], Spec['MnotQ'], Spec['QnotM'], Spec['rest'])\n",
    "    \n",
    "    \n",
    "    Spec[\"apval\"] = Spec[\"pval\"].apply(lambda x : x*moduleCount if(x*moduleCount <= bonferroniMaxPvalue) else None)\n",
    "    \n",
    "    \n",
    "    Spec = Spec[Spec[\"apval\"] > 0]\n",
    "    \n",
    "        \n",
    "    Spec[\"logpval\"] = Spec[\"pval\"].apply(lambda x : math.log10(x) if(x > 0) else min_logp ) \n",
    "    \n",
    "    Spec[\"logapval\"] = Spec[\"apval\"].apply(lambda x : math.log10(x) if(x > 0) else min_logp)\n",
    "\n",
    "    Spec = Spec[Spec[\"logapval\"] < 0]\n",
    "    \n",
    "    Spec = Spec.sort_values(['logapval'], ascending=[True])\n",
    "    \n",
    "    \n",
    "    RANK_result = Spec[[\"logpval\",\"logapval\",\"Module\",\"Number\",\"Intersection_Size\",\"Size\"]].copy() # Keeping only required columns\n",
    "\n",
    "    \n",
    "    return(RANK_result)"
   ]
  },
  {
   "cell_type": "markdown",
   "metadata": {},
   "source": [
    "### Reading the Module and parsing to rank function\n"
   ]
  },
  {
   "cell_type": "code",
   "execution_count": 8,
   "metadata": {},
   "outputs": [
    {
     "name": "stdout",
     "output_type": "stream",
     "text": [
      "Genes Entered : 185\n",
      "Unique Entrez IDs : 185\n",
      "[11520, 11535, 11541, 11639, 11674, 11676, 11717, 11910, 12032, 12043, 12111, 12177, 12209, 12226, 12306, 12368, 12389, 12452, 12457, 12575, 12576, 12577, 12767, 12831, 12870, 13004, 13008, 13179, 13198, 13358, 13527, 13615, 13636, 13638, 13649, 13806, 13807, 13808, 14066, 14121, 14219, 14281, 14284, 14385, 14387, 14433, 14447, 14538, 14635, 14733, 14734, 14735, 14815, 14828, 14936, 15116, 15211, 15275, 15277, 15368, 15417, 15476, 15529, 15531, 15931, 15937, 16006, 16007, 16009, 16193, 16322, 16476, 16572, 16770, 16795, 16828, 16833, 16948, 17035, 17133, 17319, 17423, 17684, 17859, 17872, 17886, 17988, 18030, 18451, 18452, 18484, 18534, 18591, 18641, 18654, 18655, 18682, 18750, 18770, 18772, 18787, 18793, 19017, 19252, 19285, 19309, 19664, 19883, 20198, 20341, 20439, 20527, 20778, 20855, 20893, 20970, 20971, 21366, 21753, 21809, 21810, 21817, 21929, 21983, 21985, 21991, 22022, 22339, 22346, 22359, 22403, 22695, 23849, 23871, 26401, 26757, 50527, 51795, 52187, 52231, 52331, 53374, 53412, 54200, 56012, 56174, 56277, 56421, 56484, 56485, 57444, 60406, 66681, 68507, 70186, 72157, 74155, 74185, 74747, 75785, 76238, 76459, 78889, 83397, 83553, 83814, 93692, 99929, 103988, 104263, 105785, 107817, 108767, 109042, 110611, 117592, 170750, 170768, 216136, 216558, 228026, 230163, 231507, 236900, 384783] mm_modules.pkl\n"
     ]
    }
   ],
   "source": [
    "Qfile = \"QUERY.txt\"\n",
    "\n",
    "Qresult = process_Query(Qfile)\n",
    "\n",
    "QUERY = sorted(Qresult[0])\n",
    "Species = Qresult[1]\n",
    "\n",
    "FILE = Species+\"_modules.pkl\"\n",
    "\n",
    "print(QUERY, FILE)\n",
    "\n",
    "Specie_DF = pd.read_pickle(\"{}\".format(FILE))\n",
    "\n",
    "result = rank_func(QUERY, Specie_DF)"
   ]
  },
  {
   "cell_type": "code",
   "execution_count": 70,
   "metadata": {},
   "outputs": [
    {
     "data": {
      "text/html": [
       "<div>\n",
       "<style scoped>\n",
       "    .dataframe tbody tr th:only-of-type {\n",
       "        vertical-align: middle;\n",
       "    }\n",
       "\n",
       "    .dataframe tbody tr th {\n",
       "        vertical-align: top;\n",
       "    }\n",
       "\n",
       "    .dataframe thead th {\n",
       "        text-align: right;\n",
       "    }\n",
       "</style>\n",
       "<table border=\"1\" class=\"dataframe\">\n",
       "  <thead>\n",
       "    <tr style=\"text-align: right;\">\n",
       "      <th></th>\n",
       "      <th>Module</th>\n",
       "      <th>Number</th>\n",
       "      <th>Size</th>\n",
       "      <th>Intersection_Size</th>\n",
       "      <th>Universe</th>\n",
       "      <th>Query_overlap_Universe</th>\n",
       "      <th>MnotQ</th>\n",
       "      <th>QnotM</th>\n",
       "      <th>rest</th>\n",
       "      <th>pval</th>\n",
       "      <th>apval</th>\n",
       "      <th>logpval</th>\n",
       "      <th>logapval</th>\n",
       "    </tr>\n",
       "  </thead>\n",
       "  <tbody>\n",
       "    <tr>\n",
       "      <th>187</th>\n",
       "      <td>GSE10113_GPL1261</td>\n",
       "      <td>11</td>\n",
       "      <td>144</td>\n",
       "      <td>15</td>\n",
       "      <td>6000</td>\n",
       "      <td>83</td>\n",
       "      <td>129</td>\n",
       "      <td>68</td>\n",
       "      <td>5788</td>\n",
       "      <td>7.306886e-10</td>\n",
       "      <td>6.397471e-05</td>\n",
       "      <td>-9.136268</td>\n",
       "      <td>-4.193992</td>\n",
       "    </tr>\n",
       "    <tr>\n",
       "      <th>254</th>\n",
       "      <td>GSE10168_GPL8321</td>\n",
       "      <td>13</td>\n",
       "      <td>183</td>\n",
       "      <td>22</td>\n",
       "      <td>6000</td>\n",
       "      <td>117</td>\n",
       "      <td>161</td>\n",
       "      <td>95</td>\n",
       "      <td>5722</td>\n",
       "      <td>3.564247e-12</td>\n",
       "      <td>3.120641e-07</td>\n",
       "      <td>-11.448032</td>\n",
       "      <td>-6.505756</td>\n",
       "    </tr>\n",
       "    <tr>\n",
       "      <th>1235</th>\n",
       "      <td>GSE10869_GPL8321</td>\n",
       "      <td>7</td>\n",
       "      <td>176</td>\n",
       "      <td>16</td>\n",
       "      <td>6000</td>\n",
       "      <td>91</td>\n",
       "      <td>160</td>\n",
       "      <td>75</td>\n",
       "      <td>5749</td>\n",
       "      <td>5.820283e-09</td>\n",
       "      <td>5.095890e-04</td>\n",
       "      <td>-8.235056</td>\n",
       "      <td>-3.292780</td>\n",
       "    </tr>\n",
       "    <tr>\n",
       "      <th>1947</th>\n",
       "      <td>GSE11220_GPL1261</td>\n",
       "      <td>2</td>\n",
       "      <td>993</td>\n",
       "      <td>51</td>\n",
       "      <td>6000</td>\n",
       "      <td>121</td>\n",
       "      <td>942</td>\n",
       "      <td>70</td>\n",
       "      <td>4937</td>\n",
       "      <td>1.500188e-11</td>\n",
       "      <td>1.313475e-06</td>\n",
       "      <td>-10.823854</td>\n",
       "      <td>-5.881578</td>\n",
       "    </tr>\n",
       "    <tr>\n",
       "      <th>1982</th>\n",
       "      <td>GSE11222_GPL1261</td>\n",
       "      <td>3</td>\n",
       "      <td>529</td>\n",
       "      <td>30</td>\n",
       "      <td>6000</td>\n",
       "      <td>120</td>\n",
       "      <td>499</td>\n",
       "      <td>90</td>\n",
       "      <td>5381</td>\n",
       "      <td>8.947985e-08</td>\n",
       "      <td>7.834319e-03</td>\n",
       "      <td>-7.048275</td>\n",
       "      <td>-2.105999</td>\n",
       "    </tr>\n",
       "  </tbody>\n",
       "</table>\n",
       "</div>"
      ],
      "text/plain": [
       "                Module  Number  Size  Intersection_Size  Universe  \\\n",
       "187   GSE10113_GPL1261      11   144                 15      6000   \n",
       "254   GSE10168_GPL8321      13   183                 22      6000   \n",
       "1235  GSE10869_GPL8321       7   176                 16      6000   \n",
       "1947  GSE11220_GPL1261       2   993                 51      6000   \n",
       "1982  GSE11222_GPL1261       3   529                 30      6000   \n",
       "\n",
       "      Query_overlap_Universe  MnotQ  QnotM  rest          pval         apval  \\\n",
       "187                       83    129     68  5788  7.306886e-10  6.397471e-05   \n",
       "254                      117    161     95  5722  3.564247e-12  3.120641e-07   \n",
       "1235                      91    160     75  5749  5.820283e-09  5.095890e-04   \n",
       "1947                     121    942     70  4937  1.500188e-11  1.313475e-06   \n",
       "1982                     120    499     90  5381  8.947985e-08  7.834319e-03   \n",
       "\n",
       "        logpval  logapval  \n",
       "187   -9.136268 -4.193992  \n",
       "254  -11.448032 -6.505756  \n",
       "1235  -8.235056 -3.292780  \n",
       "1947 -10.823854 -5.881578  \n",
       "1982  -7.048275 -2.105999  "
      ]
     },
     "execution_count": 70,
     "metadata": {},
     "output_type": "execute_result"
    }
   ],
   "source": [
    "result.head()"
   ]
  },
  {
   "cell_type": "code",
   "execution_count": null,
   "metadata": {},
   "outputs": [],
   "source": []
  },
  {
   "cell_type": "code",
   "execution_count": 23,
   "metadata": {},
   "outputs": [],
   "source": [
    "#gQ_res.to_csv(\"MM_module.csv\", sep='\\t', encoding='utf-8')\n"
   ]
  },
  {
   "cell_type": "markdown",
   "metadata": {},
   "source": [
    "### Total number of modules in results of genequery"
   ]
  },
  {
   "cell_type": "code",
   "execution_count": 68,
   "metadata": {},
   "outputs": [
    {
     "data": {
      "text/plain": [
       "Module                    415\n",
       "Number                    415\n",
       "Size                      415\n",
       "Intersection_Size         415\n",
       "Universe                  415\n",
       "Query_overlap_Universe    415\n",
       "MnotQ                     415\n",
       "QnotM                     415\n",
       "rest                      415\n",
       "pval                      415\n",
       "apval                     415\n",
       "logpval                   415\n",
       "logapval                  415\n",
       "dtype: int64"
      ]
     },
     "execution_count": 68,
     "metadata": {},
     "output_type": "execute_result"
    }
   ],
   "source": [
    "result.count()"
   ]
  },
  {
   "cell_type": "code",
   "execution_count": null,
   "metadata": {},
   "outputs": [],
   "source": []
  }
 ],
 "metadata": {
  "kernelspec": {
   "display_name": "Python 3",
   "language": "python",
   "name": "python3"
  },
  "language_info": {
   "codemirror_mode": {
    "name": "ipython",
    "version": 3
   },
   "file_extension": ".py",
   "mimetype": "text/x-python",
   "name": "python",
   "nbconvert_exporter": "python",
   "pygments_lexer": "ipython3",
   "version": "3.5.3"
  }
 },
 "nbformat": 4,
 "nbformat_minor": 2
}

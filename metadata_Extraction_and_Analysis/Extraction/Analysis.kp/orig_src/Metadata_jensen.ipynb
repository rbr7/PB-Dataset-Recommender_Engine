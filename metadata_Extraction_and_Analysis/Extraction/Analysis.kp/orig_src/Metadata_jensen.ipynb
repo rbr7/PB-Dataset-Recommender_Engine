{
 "cells": [
  {
   "cell_type": "markdown",
   "metadata": {},
   "source": [
    "---\n",
    "title: Metada Extraction.\n",
    
    "tldr: This is short description of the content and findings of the post.\n",
    "---"
   ]
  },
  {
   "cell_type": "markdown",
   "metadata": {},
   "source": [
    "### Importing libraries"
   ]
  },
  {
   "cell_type": "code",
   "execution_count": null,
   "metadata": {},
   "outputs": [],
   "source": [
    "import requests\n",
    "from html.parser import HTMLParser\n",
    "from bs4 import BeautifulSoup\n",
    "#from bs4 import BeautifulSoup\n",
    "import numpy as np\n",
    "import pandas as pd\n",
    "import pickle\n",
    "#from itertools import chain\n",
    "GEO_URL = \"http://www.ncbi.nlm.nih.gov/geo/query/acc.cgi?acc=\""
   ]
  },
  {
   "cell_type": "markdown",
   "metadata": {},
   "source": [
    "### Fetching summary from GEO database of the GSE id"
   ]
  },
  {
   "cell_type": "code",
   "execution_count": null,
   "metadata": {},
   "outputs": [],
   "source": [
    "def get_summary_and_title(gse_id):\n",
    "    url = GEO_URL + gse_id\n",
    "   \n",
    "    page = requests.get(url)\n",
    "    soup = BeautifulSoup(page.text, \"html.parser\")\n",
    "    title = soup.find(\"td\", text=\"Title\").find_next_sibling(\"td\").text\n",
    "    # pltfm_org = soup.find(\"td \", text=\"Platform organism\").find_next_sibling(\"td\").text\n",
    "    # sample_org = soup.find(\"td\", text=\"Sample organism\").find_next_sibling(\"td\").text\n",
    "    exp_type = soup.find(\"td\", text=\"Experiment type\").find_next_sibling(\"td\").text\n",
    "    abstract = soup.find(\"td\", text=\"Summary\").find_next_sibling(\"td\").text\n",
    "\n",
    "    dataset_meta = {'gse_id': gse_id, 'title': title, 'exp_type': exp_type, 'abstract': abstract}\n",
    "    return(dataset_meta)"
   ]
  },
  {
   "cell_type": "code",
   "execution_count": null,
   "metadata": {},
   "outputs": [],
   "source": [
    "#summary = get_summary_and_title('GSE9452')"
   ]
  },
  {
   "cell_type": "code",
   "execution_count": null,
   "metadata": {},
   "outputs": [],
   "source": [
    "#summary = summary['abstract']"
   ]
  },
  {
   "cell_type": "markdown",
   "metadata": {},
   "source": [
    "### Fetching the metadata keywords from JENSEN API"
   ]
  },
  {
   "cell_type": "code",
   "execution_count": null,
   "metadata": {},
   "outputs": [],
   "source": [
    "def query_jensen_api(input_string):\n",
    "   query_string = input_string.replace(\" \", \"+\")\n",
    "   url = 'http://tagger.jensenlab.org/GetEntities?document=' + \\\n",
    "       query_string + '&entity_types=-2+-25+-26+-27+-21+-22+-23+0+-1+-3+ \\\n",
    "       -11+-24+-28+-29+-30+-31+-36&format=tsv'\n",
    "   response = requests.get(url)\n",
    "   response_jensen = pd.DataFrame([x.split('\\t') for x in str(\n",
    "       response.text).split(\"\\n\")], columns=[\"Name\", \"Annotation\",\"Identifier\"])\n",
    "   response_jensen_wo_duplicates = response_jensen.drop_duplicates([\"Name\"])\n",
    "   return response_jensen_wo_duplicates"
   ]
  },
  {
   "cell_type": "markdown",
   "metadata": {},
   "source": [
    "### Function to call all above functions to get the metadata keywords"
   ]
  },
  {
   "cell_type": "code",
   "execution_count": null,
   "metadata": {},
   "outputs": [],
   "source": [
    "def get_metadata(sig_id):\n",
    "   creeds_response_dict = get_creeds_response(sig_id)\n",
    "   gse_id = creeds_response_dict['geo_id']\n",
    "   data = get_summary_and_title(gse_id)\n",
    "   jensen_output = query_jensen_api(data['abstract'])\n",
    "   annotated_data = (annotate_biomedical_entities(jensen_output))\n",
    "   return annotated_data\n"
   ]
  },
  {
   "cell_type": "markdown",
   "metadata": {},
   "source": [
    "### Biomedical terms annotated by JENSEN"
   ]
  },
  {
   "cell_type": "code",
   "execution_count": null,
   "metadata": {},
   "outputs": [],
   "source": [
    "biomedicalTermsJensenAnnotated = {'APO_phenotypes': -28,\n",
    "                                  'BTO_Tissues': -25,\n",
    "                                  'DOID_Diseases': -26,\n",
    "                                  'ENVO_environments': -27,\n",
    "                                  'FYPO_phenotypes': -29,\n",
    "                                  'GOBiologicalProcess': -21,\n",
    "                                  'GOCellularComponent': -22,\n",
    "                                  'GOMolecularFunction': -23,\n",
    "                                  'GOOther': -24,\n",
    "                                  'MPheno_phenotypes': -30,\n",
    "                                  'NBO_behaviors': -31,\n",
    "                                  'NCBI_Chemicals': -1,\n",
    "                                  'NCBI_Species': -2,\n",
    "                                  'NCBI_Species_Proteins': -3,\n",
    "                                  'Wikipedia': -11,\n",
    "                                  'mammalian_phenotypes': -36}"
   ]
  },
  {
   "cell_type": "markdown",
   "metadata": {},
   "source": [
    "### Function to annotate biomedical entities"
   ]
  },
  {
   "cell_type": "code",
   "execution_count": null,
   "metadata": {},
   "outputs": [],
   "source": [
    "def annotate_biomedical_entities(response_jensen_wo_duplicates):\n",
    "    \"\"\"\n",
    "    This function annotate words along with biomedical entities\n",
    "\n",
    "    Parameters\n",
    "    ----------\n",
    "    response_jensen_wo_duplicates : pandas dataframe\n",
    "         pandas dataframe having word along with annotation and identifier\n",
    "\n",
    "    Returns\n",
    "    -------\n",
    "    dict\n",
    "        dictionary where each entity contains list of\n",
    "        words from input string as values\n",
    "    \"\"\"\n",
    "\n",
    "    annotated_dict = dict()\n",
    "    for index, row in response_jensen_wo_duplicates.iterrows():\n",
    "        k = [key for (key, value) in biomedicalTermsJensenAnnotated.\n",
    "             items() if int(row[1]) == value]\n",
    "        if int(row[1]) > 1:\n",
    "            k = [\"Genes\"]\n",
    "        m = \"Not_Known\" if len(k) == 0 else k[0]\n",
    "        annotated_dict.setdefault(m, [])\n",
    "        annotated_dict[m].append(row[0])\n",
    "    return annotated_dict\n"
   ]
  },
  {
   "cell_type": "code",
   "execution_count": null,
   "metadata": {},
   "outputs": [],
   "source": [
    "summary_jensen = query_jensen_api('We assessed MLL/SET proteins and found that SETD1A is required for survival of acute myeloid leukemia (AML) cells')\n",
    "summary_jensen"
   ]
  },
  {
   "cell_type": "code",
   "execution_count": null,
   "metadata": {},
   "outputs": [],
   "source": [
    "#meta_data = annotate_biomedical_entities(summary_jensen)\n",
    "#meta_data"
   ]
  },
  {
   "cell_type": "code",
   "execution_count": null,
   "metadata": {},
   "outputs": [],
   "source": [
    "#meta_list = list(meta_data.values())"
   ]
  },
  {
   "cell_type": "code",
   "execution_count": null,
   "metadata": {},
   "outputs": [],
   "source": [
    "#flat_list = [item for sublist in meta_list for item in sublist]"
   ]
  },
  {
   "cell_type": "code",
   "execution_count": null,
   "metadata": {},
   "outputs": [],
   "source": [
    "#flat_list"
   ]
  },
  {
   "cell_type": "markdown",
   "metadata": {},
   "source": [
    "### Reading GEO ids"
   ]
  },
  {
   "cell_type": "code",
   "execution_count": null,
   "metadata": {},
   "outputs": [],
   "source": [
    "aml_microarray_geoids = pd.read_csv('GEO_AML_Microarray.csv')"
   ]
  },
  {
   "cell_type": "markdown",
   "metadata": {},
   "source": [
    "### First few GEO ids"
   ]
  },
  {
   "cell_type": "code",
   "execution_count": null,
   "metadata": {},
   "outputs": [],
   "source": [
    "geo_ids = aml_microarray_geoids['gse_id']\n",
    "geo_ids.head()"
   ]
  },
  {
   "cell_type": "code",
   "execution_count": null,
   "metadata": {},
   "outputs": [],
   "source": [
    "#summary = get_summary_and_title('GSE9452')\n",
    "#summary = summary['abstract']\n",
    "#annotate_biomedical_entities(summary_jensen)"
   ]
  },
  {
   "cell_type": "markdown",
   "metadata": {},
   "source": [
    "### Fetching the metadata keywords for all GEO ids"
   ]
  },
  {
   "cell_type": "code",
   "execution_count": null,
   "metadata": {},
   "outputs": [],
   "source": [
    "# geoids_metadata = {}\n",
    "# all_geoids_metadata = []\n",
    "# invalid_geo_ids = []\n",
    "\n",
    "# for i in range(len(geo_ids)):\n",
    "    \n",
    "#     try:    \n",
    "#         summary = get_summary_and_title(geo_ids[i])\n",
    "#         summary = summary['abstract']\n",
    "    \n",
    "#         jensen_output = query_jensen_api(summary)\n",
    "    \n",
    "#         meta_data = annotate_biomedical_entities(jensen_output)\n",
    "#         meta_list = list(meta_data.values())\n",
    "#         meta_data_list = [item for sublist in meta_list for item in sublist]\n",
    "#         #print(meta_data)\n",
    "        \n",
    "#         all_geoids_metadata.extend(meta_data_list)\n",
    "#         #print(all_geoids_metadata)\n",
    "        \n",
    "#         geoids_metadata[geo_ids[i]] = meta_data_list\n",
    "#         #print(geoids_metadata)\n",
    "        \n",
    "#     except AssertionError: \n",
    "#         print('No output in {} from JENSEN'.format(geo_ids[i]))\n",
    "#         invalid_geo_ids.append(geo_ids[i])"
   ]
  },
  {
   "cell_type": "code",
   "execution_count": null,
   "metadata": {},
   "outputs": [],
   "source": [
    "#geoids_metadata"
   ]
  },
  {
   "cell_type": "markdown",
   "metadata": {},
   "source": [
    "### Serializing the above metadata using Pickle"
   ]
  },
  {
   "cell_type": "code",
   "execution_count": null,
   "metadata": {},
   "outputs": [],
   "source": [
    "file_Name = \"jensen_metadata_raw\"\n",
    "#fileObject = open(file_Name,'wb') \n",
    "\n",
    "#pickle.dump(geoids_metadata, fileObject)  \n",
    "#fileObject.close()"
   ]
  },
  {
   "cell_type": "markdown",
   "metadata": {},
   "source": [
    "### Loading the Pickle metadata file"
   ]
  },
  {
   "cell_type": "code",
   "execution_count": null,
   "metadata": {},
   "outputs": [],
   "source": [
    "fileObject = open(file_Name,'rb')\n",
    "a = pickle.load(fileObject)"
   ]
  },
  {
   "cell_type": "markdown",
   "metadata": {},
   "source": [
    "### Assigning the pickle metadata file to the variable"
   ]
  },
  {
   "cell_type": "code",
   "execution_count": null,
   "metadata": {},
   "outputs": [],
   "source": [
    "geoids_metadata = a"
   ]
  },
  {
   "cell_type": "markdown",
   "metadata": {},
   "source": [
    "### List of GEO ids for which JENSEN didn't gave any metadata keywords as output "
   ]
  },
  {
   "cell_type": "code",
   "execution_count": null,
   "metadata": {},
   "outputs": [],
   "source": [
    "invalid_geo_ids"
   ]
  },
  {
   "cell_type": "markdown",
   "metadata": {},
   "source": [
    "### Extracting the GEO ids for which metadata is present"
   ]
  },
  {
   "cell_type": "code",
   "execution_count": null,
   "metadata": {},
   "outputs": [],
   "source": [
    "valid_geo_ids = [x for x in geo_ids if x not in invalid_geo_ids]\n",
    "len(valid_geo_ids)"
   ]
  },
  {
   "cell_type": "markdown",
   "metadata": {},
   "source": [
    "### Looking at the metadata keywords"
   ]
  },
  {
   "cell_type": "code",
   "execution_count": null,
   "metadata": {},
   "outputs": [],
   "source": [
    "set(all_geoids_metadata)"
   ]
  },
  {
   "cell_type": "markdown",
   "metadata": {},
   "source": [
    "### Creating the column names for our final matrix"
   ]
  },
  {
   "cell_type": "code",
   "execution_count": null,
   "metadata": {},
   "outputs": [],
   "source": [
    "cols = set(all_geoids_metadata)\n",
    "column_names = list(cols)\n",
    "column_names"
   ]
  },
  {
   "cell_type": "markdown",
   "metadata": {},
   "source": [
    "### Creating the Matrix with with rows as GSE ids and columns as metadata keywords"
   ]
  },
  {
   "cell_type": "code",
   "execution_count": null,
   "metadata": {},
   "outputs": [],
   "source": [
    "dataset_metadata_df = pd.DataFrame(columns=column_names, index=valid_geo_ids)\n",
    "dataset_metadata_df"
   ]
  },
  {
   "cell_type": "markdown",
   "metadata": {},
   "source": [
    "### Filling the matrix with 1's and 0's where the metadata is present or absent respectvely"
   ]
  },
  {
   "cell_type": "code",
   "execution_count": null,
   "metadata": {},
   "outputs": [],
   "source": [
    "for i in range(len(valid_geo_ids)):\n",
    "    #try:\n",
    "    row_name = dataset_metadata_df.index[i]\n",
    "    #print(row_name)\n",
    "\n",
    "    for j in range(len(column_names)):\n",
    "\n",
    "        col_name = column_names[j]\n",
    "        #print(col_name)\n",
    "\n",
    "        if col_name in geoids_metadata[row_name]:\n",
    "            dataset_metadata_df.loc[row_name, col_name] = 1\n",
    "        else:\n",
    "            dataset_metadata_df.loc[row_name, col_name] = 0\n",
    "    #except KeyError: \n",
    "        #print('No output in {} from JENSEN'.format(geo_ids[i]))\n",
    "        #invalid_geo_ids.append(geo_ids[i])"
   ]
  },
  {
   "cell_type": "code",
   "execution_count": null,
   "metadata": {},
   "outputs": [],
   "source": [
    "#geoids_metadata[row_name]"
   ]
  },
  {
   "cell_type": "markdown",
   "metadata": {},
   "source": [
    "### Looking at the matrix"
   ]
  },
  {
   "cell_type": "code",
   "execution_count": null,
   "metadata": {},
   "outputs": [],
   "source": [
    "dataset_metadata_df"
   ]
  },
  {
   "cell_type": "markdown",
   "metadata": {},
   "source": [
    "### Serializing the matrix using Pickle"
   ]
  },
  {
   "cell_type": "code",
   "execution_count": null,
   "metadata": {},
   "outputs": [],
   "source": [
    "#import pickle\n",
    "\n",
    "file_Name = \"jensen_metadata\"\n",
    "#fileObject = open(file_Name,'wb') \n",
    "\n",
    "#pickle.dump(dataset_metadata_df, fileObject)  \n",
    "#fileObject.close()"
   ]
  },
  {
   "cell_type": "markdown",
   "metadata": {},
   "source": [
    "### Loading the pickle file"
   ]
  },
  {
   "cell_type": "code",
   "execution_count": null,
   "metadata": {},
   "outputs": [],
   "source": [
    "fileObject = open(file_Name,'rb')\n",
    "b = pickle.load(fileObject)"
   ]
  },
  {
   "cell_type": "markdown",
   "metadata": {},
   "source": [
    "### Assigning the pickle metadata file to the variable"
   ]
  },
  {
   "cell_type": "code",
   "execution_count": null,
   "metadata": {},
   "outputs": [],
   "source": [
    "dataset_metadata_df = b\n",
    "dataset_metadata_df"
   ]
  },
  {
   "cell_type": "markdown",
   "metadata": {},
   "source": [
    "### Shape of the matrix"
   ]
  },
  {
   "cell_type": "code",
   "execution_count": null,
   "metadata": {},
   "outputs": [],
   "source": [
    "b.shape"
   ]
  },
  {
   "cell_type": "code",
   "execution_count": null,
   "metadata": {},
   "outputs": [],
   "source": [
    "pd.options.display.max_rows = 5000"
   ]
  },
  {
   "cell_type": "markdown",
   "metadata": {},
   "source": [
    "### Importing plotting libraries"
   ]
  },
  {
   "cell_type": "code",
   "execution_count": null,
   "metadata": {},
   "outputs": [],
   "source": [
    "import matplotlib.pyplot as plt\n",
    "%matplotlib inline\n",
    "import seaborn as sns\n"
   ]
  },
  {
   "cell_type": "markdown",
   "metadata": {},
   "source": [
    "### Frequencies of the metadata"
   ]
  },
  {
   "cell_type": "code",
   "execution_count": null,
   "metadata": {},
   "outputs": [],
   "source": [
    "col_sum = dataset_metadata_df.sum()\n",
    "col_sum"
   ]
  },
  {
   "cell_type": "markdown",
   "metadata": {},
   "source": [
    "### Sorting the frequencies"
   ]
  },
  {
   "cell_type": "code",
   "execution_count": null,
   "metadata": {},
   "outputs": [],
   "source": [
    "col_sum_sorted = col_sum.sort_values(ascending=False)\n",
    "col_sum_sorted"
   ]
  },
  {
   "cell_type": "markdown",
   "metadata": {},
   "source": [
    "### Top 50 most frequent metadata"
   ]
  },
  {
   "cell_type": "code",
   "execution_count": null,
   "metadata": {},
   "outputs": [],
   "source": [
    "col_sum_sorted[:50]"
   ]
  },
  {
   "cell_type": "markdown",
   "metadata": {},
   "source": [
    "### Top 50 unique metadata"
   ]
  },
  {
   "cell_type": "code",
   "execution_count": null,
   "metadata": {},
   "outputs": [],
   "source": [
    "col_sum_sorted[-50:]"
   ]
  },
  {
   "cell_type": "markdown",
   "metadata": {},
   "source": [
    "### Unique freuencies"
   ]
  },
  {
   "cell_type": "code",
   "execution_count": null,
   "metadata": {},
   "outputs": [],
   "source": [
    "np.unique(col_sum_sorted)"
   ]
  },
  {
   "cell_type": "code",
   "execution_count": null,
   "metadata": {},
   "outputs": [],
   "source": [
    "len(np.unique(col_sum_sorted))"
   ]
  },
  {
   "cell_type": "markdown",
   "metadata": {},
   "source": [
    "### Plotting the frequencies in x-axis and no. of metadata with those frequencies in y-axis"
   ]
  },
  {
   "cell_type": "code",
   "execution_count": null,
   "metadata": {},
   "outputs": [],
   "source": [
    "#col_sum_10 = col_sum[col_sum >= 10]\n",
    "#col_sum.plot()\n",
    "sns.set(rc={'figure.figsize':(20,9)})\n",
    "\n",
    "\n",
    "g = sns.countplot(col_sum_sorted).set_title(\"Metadata frequencies and their counts for JENSEN\")\n",
    "#g.set(xlabel='metadata frequencies', ylabel='no. of metadata with those frequencies')\n",
    "plt.xlabel(\"metadata frequencies\")\n",
    "plt.ylabel(\"no. of metadata with those frequencies\")\n",
    "#sns_plot = sns.pairplot(df, hue='species', size=2.5)\n",
    "g.figure.savefig(\"Metadata frequencies and their counts for JENSEN.png\")\n"
   ]
  },
  {
   "cell_type": "markdown",
   "metadata": {},
   "source": [
    "### No. of metadata present only once or  1 time"
   ]
  },
  {
   "cell_type": "code",
   "execution_count": null,
   "metadata": {},
   "outputs": [],
   "source": [
    "len(col_sum_sorted[col_sum_sorted==1])"
   ]
  },
  {
   "cell_type": "markdown",
   "metadata": {},
   "source": [
    "### Metadata present only once"
   ]
  },
  {
   "cell_type": "code",
   "execution_count": null,
   "metadata": {},
   "outputs": [],
   "source": [
    "col_sum_sorted[col_sum_sorted==1]"
   ]
  },
  {
   "cell_type": "markdown",
   "metadata": {},
   "source": [
    "### No. of metadata present only 3 times"
   ]
  },
  {
   "cell_type": "code",
   "execution_count": null,
   "metadata": {},
   "outputs": [],
   "source": [
    "len(col_sum_sorted[col_sum_sorted==3])"
   ]
  },
  {
   "cell_type": "markdown",
   "metadata": {},
   "source": [
    "### Metadata present only 3 times"
   ]
  },
  {
   "cell_type": "code",
   "execution_count": null,
   "metadata": {},
   "outputs": [],
   "source": [
    "col_sum_sorted[col_sum_sorted==3]"
   ]
  },
  {
   "cell_type": "markdown",
   "metadata": {},
   "source": [
    "### No. of metadata present only 5 times"
   ]
  },
  {
   "cell_type": "code",
   "execution_count": null,
   "metadata": {},
   "outputs": [],
   "source": [
    "len(col_sum_sorted[col_sum_sorted==5])"
   ]
  },
  {
   "cell_type": "markdown",
   "metadata": {},
   "source": [
    "### Metadata present only 5 times"
   ]
  },
  {
   "cell_type": "code",
   "execution_count": null,
   "metadata": {},
   "outputs": [],
   "source": [
    "col_sum_sorted[col_sum_sorted==5]"
   ]
  },
  {
   "cell_type": "markdown",
   "metadata": {},
   "source": [
    "### No. of metadata present 10 times"
   ]
  },
  {
   "cell_type": "code",
   "execution_count": null,
   "metadata": {},
   "outputs": [],
   "source": [
    "len(col_sum_sorted[col_sum_sorted==10])"
   ]
  },
  {
   "cell_type": "markdown",
   "metadata": {},
   "source": [
    "### Metadata present only 10 times"
   ]
  },
  {
   "cell_type": "code",
   "execution_count": null,
   "metadata": {},
   "outputs": [],
   "source": [
    "len(col_sum_sorted[col_sum_sorted==10])"
   ]
  },
  {
   "cell_type": "markdown",
   "metadata": {},
   "source": [
    "### Plotting metadata- 'bone marrow' and their counts"
   ]
  },
  {
   "cell_type": "code",
   "execution_count": null,
   "metadata": {},
   "outputs": [],
   "source": [
    "sns.countplot(dataset_metadata_df['bone marrow'])"
   ]
  },
  {
   "cell_type": "markdown",
   "metadata": {},
   "source": [
    "### Plotting metadata- 'acute myeloid leukemia' and their counts"
   ]
  },
  {
   "cell_type": "code",
   "execution_count": null,
   "metadata": {},
   "outputs": [],
   "source": [
    "sns.countplot(dataset_metadata_df['acute myeloid leukemia'])"
   ]
  },
  {
   "cell_type": "markdown",
   "metadata": {},
   "source": [
    "### Plotting metadata- 'CD34' and their counts"
   ]
  },
  {
   "cell_type": "code",
   "execution_count": null,
   "metadata": {},
   "outputs": [],
   "source": [
    "sns.countplot(dataset_metadata_df['CD34'])"
   ]
  },
  {
   "cell_type": "markdown",
   "metadata": {},
   "source": [
    "### Plotting metadata- 'hematopoietic cells' and their counts"
   ]
  },
  {
   "cell_type": "code",
   "execution_count": null,
   "metadata": {},
   "outputs": [],
   "source": [
    "sns.countplot(dataset_metadata_df['hematopoietic cells'])"
   ]
  },
  {
   "cell_type": "markdown",
   "metadata": {},
   "source": [
    "### Plotting metadata- 'AF9' and their counts"
   ]
  },
  {
   "cell_type": "code",
   "execution_count": null,
   "metadata": {},
   "outputs": [],
   "source": [
    "sns.countplot(dataset_metadata_df['AF9'])"
   ]
  },
  {
   "cell_type": "markdown",
   "metadata": {},
   "source": [
    "### Plotting metadata- 'NPM1' and their counts"
   ]
  },
  {
   "cell_type": "code",
   "execution_count": null,
   "metadata": {},
   "outputs": [],
   "source": [
    "sns.countplot(dataset_metadata_df['NPM1'])"
   ]
  },
  {
   "cell_type": "markdown",
   "metadata": {},
   "source": [
    "### Plotting metadata- 'CEBPA' and their counts"
   ]
  },
  {
   "cell_type": "code",
   "execution_count": null,
   "metadata": {},
   "outputs": [],
   "source": [
    "sns.countplot(dataset_metadata_df['CEBPA'])"
   ]
  },
  {
   "cell_type": "markdown",
   "metadata": {},
   "source": [
    "### Plotting the metadata and their counts"
   ]
  },
  {
   "cell_type": "code",
   "execution_count": null,
   "metadata": {},
   "outputs": [],
   "source": [
    "#sns.barplot(x = \"gene expression\", y = \"dataset_metadata_df\", data = dataset_metadata_df)\n",
    "#sns.barplot(data = dataset_metadata_df[['acute myeloid leukemia', 'gene expression', 'CEBPA']])\n",
    "\n",
    "#ax = sns.barplot(x=col_sum_sorted, y=col_sum_sorted.index, data=col_sum_sorted)\n",
    "#ax.set_xlabel(col_sum_sorted.index)\n",
    "col_sum_sorted_df = pd.DataFrame(col_sum_sorted)\n",
    "col_sum_sorted_df.reset_index(level=0, inplace=True)\n",
    "col_sum_sorted_df\n",
    "sns.set(rc={'figure.figsize':(15,500)})\n",
    "ax = sns.barplot(x=0, y='index', data=col_sum_sorted_df)\n",
    "ax.set_xlabel('index')\n",
    "ax.set_title('metadata and their presence in no.of datasets for JENSEN')\n",
    "plt.xlabel(\"no. of datasets\")\n",
    "plt.ylabel(\"metadata\")\n",
    "ax.figure.savefig(\"metadata and their presence in no.of datasets for JENSEN.png\")\n"
   ]
  },
  {
   "cell_type": "markdown",
   "metadata": {},
   "source": [
    "### GSE id's with no. of metadata present"
   ]
  },
  {
   "cell_type": "code",
   "execution_count": null,
   "metadata": {},
   "outputs": [],
   "source": [
    "row_sum = dataset_metadata_df.sum(axis = 1)\n",
    "row_sum"
   ]
  },
  {
   "cell_type": "markdown",
   "metadata": {},
   "source": [
    "### Sorting the GSE ids in descending order w.r.t no. of metadata present"
   ]
  },
  {
   "cell_type": "code",
   "execution_count": null,
   "metadata": {},
   "outputs": [],
   "source": [
    "row_sum_sorted = row_sum.sort_values(ascending=False)\n",
    "row_sum_sorted"
   ]
  },
  {
   "cell_type": "markdown",
   "metadata": {},
   "source": [
    "### 20 GSE id's with most metadata "
   ]
  },
  {
   "cell_type": "code",
   "execution_count": null,
   "metadata": {},
   "outputs": [],
   "source": [
    "row_sum_sorted[:20]"
   ]
  },
  {
   "cell_type": "markdown",
   "metadata": {},
   "source": [
    "### 20 GSE id's with least metadata"
   ]
  },
  {
   "cell_type": "code",
   "execution_count": null,
   "metadata": {},
   "outputs": [],
   "source": [
    "row_sum_sorted[-20:]"
   ]
  },
  {
   "cell_type": "markdown",
   "metadata": {},
   "source": [
    "### GSE id's with the metadata present"
   ]
  },
  {
   "cell_type": "code",
   "execution_count": null,
   "metadata": {},
   "outputs": [],
   "source": [
    "gse_meta_dict = {}\n",
    "\n",
    "for i in range(len(dataset_metadata_df.index)):\n",
    "    gse = dataset_metadata_df.index[i]\n",
    "    #print(gse)\n",
    "    cols = (dataset_metadata_df.loc[gse] == 1)\n",
    "    #print(cols)\n",
    "    true_cols = cols[cols == True]\n",
    "    #print(true_cols)\n",
    "    gse_meta_dict[gse] = list(true_cols.index)"
   ]
  },
  {
   "cell_type": "code",
   "execution_count": null,
   "metadata": {},
   "outputs": [],
   "source": [
    "gse_meta_dict"
   ]
  },
  {
   "cell_type": "code",
   "execution_count": null,
   "metadata": {},
   "outputs": [],
   "source": [
    "row_sum_sorted"
   ]
  },
  {
   "cell_type": "markdown",
   "metadata": {},
   "source": [
    "### GSE ids and their no. of metadata present"
   ]
  },
  {
   "cell_type": "code",
   "execution_count": null,
   "metadata": {},
   "outputs": [],
   "source": [
    "row_sum_sorted_df = pd.DataFrame(row_sum_sorted)\n",
    "row_sum_sorted_df.reset_index(level=0, inplace=True)\n",
    "row_sum_sorted_df\n",
    "sns.set(rc={'figure.figsize':(15,100)})\n",
    "ax = sns.barplot(x=0, y='index', data=row_sum_sorted_df)\n",
    "ax.set_xlabel('index')\n",
    "\n",
    "ax.set_title('GSE ids and their no. of metadata present for JENSEN')\n",
    "plt.xlabel(\"no. of metadata\")\n",
    "plt.ylabel(\"GSE ids\")\n",
    "ax.figure.savefig(\"GSE ids and their no. of metadata present for JENSEN.png\")"
   ]
  },
  {
   "cell_type": "code",
   "execution_count": null,
   "metadata": {},
   "outputs": [],
   "source": [
    "col_sum_sorted[col_sum_sorted <= 30].index"
   ]
  },
  {
   "cell_type": "markdown",
   "metadata": {},
   "source": [
    "### Filtering out the metadata keywords which are very common"
   ]
  },
  {
   "cell_type": "code",
   "execution_count": null,
   "metadata": {},
   "outputs": [],
   "source": [
    "filtered_metadata = dataset_metadata_df[col_sum_sorted[col_sum_sorted <= 30].index]\n",
    "filtered_metadata"
   ]
  },
  {
   "cell_type": "markdown",
   "metadata": {},
   "source": [
    "### Getting the cosine similarity for our matrix"
   ]
  },
  {
   "cell_type": "code",
   "execution_count": null,
   "metadata": {},
   "outputs": [],
   "source": [
    "from sklearn.metrics.pairwise import cosine_similarity\n",
    "\n",
    "cos_sim_matrix = cosine_similarity(filtered_metadata)\n",
    "cos_sim_matrix"
   ]
  },
  {
   "cell_type": "code",
   "execution_count": null,
   "metadata": {},
   "outputs": [],
   "source": [
    "np.set_printoptions(threshold=np.nan)\n",
    "\n",
    "print(pd.DataFrame(cos_sim_matrix))"
   ]
  },
  {
   "cell_type": "markdown",
   "metadata": {},
   "source": [
    "### Shape of the similarity matrix"
   ]
  },
  {
   "cell_type": "code",
   "execution_count": null,
   "metadata": {},
   "outputs": [],
   "source": [
    "cos_sim_matrix.shape"
   ]
  },
  {
   "cell_type": "markdown",
   "metadata": {},
   "source": [
    "### Converting the similarity matrix to a dataframe"
   ]
  },
  {
   "cell_type": "code",
   "execution_count": null,
   "metadata": {},
   "outputs": [],
   "source": [
    "cos_sim_matrix_df = pd.DataFrame(cos_sim_matrix)\n",
    "cos_sim_matrix_df"
   ]
  },
  {
   "cell_type": "markdown",
   "metadata": {},
   "source": [
    "### Giving the similarity matrix dataframe rows and columns as GSE ids"
   ]
  },
  {
   "cell_type": "code",
   "execution_count": null,
   "metadata": {},
   "outputs": [],
   "source": [
    "cos_sim_matrix_df.columns = filtered_metadata.index\n",
    "cos_sim_matrix_df.index = filtered_metadata.index"
   ]
  },
  {
   "cell_type": "code",
   "execution_count": null,
   "metadata": {},
   "outputs": [],
   "source": [
    "cos_sim_matrix_df"
   ]
  },
  {
   "cell_type": "code",
   "execution_count": null,
   "metadata": {},
   "outputs": [],
   "source": [
    "cos_sim_matrix_df.shape"
   ]
  },
  {
   "cell_type": "code",
   "execution_count": null,
   "metadata": {},
   "outputs": [],
   "source": []
  },
  {
   "cell_type": "code",
   "execution_count": null,
   "metadata": {},
   "outputs": [],
   "source": []
  },
  {
   "cell_type": "code",
   "execution_count": null,
   "metadata": {},
   "outputs": [],
   "source": [
    "#df.loc['y'] = pandas.Series({'a':1, 'b':5, 'c':2, 'd':3})"
   ]
  },
  {
   "cell_type": "code",
   "execution_count": null,
   "metadata": {},
   "outputs": [],
   "source": [
    "#rowIndex = df.index[someRowNumber]\n",
    "#df.loc[rowIndex, 'New Column Title'] = \"some value\""
   ]
  },
  {
   "cell_type": "code",
   "execution_count": null,
   "metadata": {},
   "outputs": [],
   "source": [
    "#row_nm = dataset_metadata_df.index[1]\n",
    "#row_nm"
   ]
  },
  {
   "cell_type": "code",
   "execution_count": null,
   "metadata": {},
   "outputs": [],
   "source": [
    "#geoids_metadata['GSE111678']"
   ]
  },
  {
   "cell_type": "code",
   "execution_count": null,
   "metadata": {},
   "outputs": [],
   "source": [
    "#dataset_metadata_df = pd.DataFrame()\n",
    "\n",
    "#for i in range(len(geo_ids)):\n",
    "    #dataset_metadata_df['geo_ids'] = geo_ids[i]\n",
    "    "
   ]
  },
  {
   "cell_type": "code",
   "execution_count": null,
   "metadata": {},
   "outputs": [],
   "source": [
    "#unique_metadata = []\n",
    "\n",
    "#for val in geoids_metadata.values(): \n",
    "    #if val in unique_metadata: \n",
    "        #continue \n",
    "    #else:\n",
    "        #unique_metadata.append(val)\n",
    "\n",
    "#print(unique_metadata)"
   ]
  },
  {
   "cell_type": "code",
   "execution_count": null,
   "metadata": {},
   "outputs": [],
   "source": [
    "#geoids_metadata.values()"
   ]
  },
  {
   "cell_type": "code",
   "execution_count": null,
   "metadata": {},
   "outputs": [],
   "source": [
    "#summary = get_summary_and_title('GSE97346')"
   ]
  },
  {
   "cell_type": "code",
   "execution_count": null,
   "metadata": {},
   "outputs": [],
   "source": [
    "#summary = summary['abstract']\n",
    "#summary"
   ]
  },
  {
   "cell_type": "code",
   "execution_count": null,
   "metadata": {},
   "outputs": [],
   "source": [
    "#summary_jensen = query_jensen_api(summary)\n",
    "#summary_jensen"
   ]
  },
  {
   "cell_type": "code",
   "execution_count": null,
   "metadata": {},
   "outputs": [],
   "source": [
    "#meta_data = annotate_biomedical_entities(summary_jensen)\n",
    "#meta_data"
   ]
  },
  {
   "cell_type": "code",
   "execution_count": null,
   "metadata": {},
   "outputs": [],
   "source": [
    "#summary"
   ]
  },
  {
   "cell_type": "code",
   "execution_count": null,
   "metadata": {},
   "outputs": [],
   "source": [
    "#jen = query_jensen_api(summary)\n",
    "#jen"
   ]
  },
  {
   "cell_type": "code",
   "execution_count": null,
   "metadata": {},
   "outputs": [],
   "source": [
    "#import matplotlib.pyplot as plt\n",
    "#import seaborn as sns\n",
    "\n",
    "#sns.distplot(dataset_metadata_df['NCBI_Species_Proteins'])"
   ]
  },
  {
   "cell_type": "code",
   "execution_count": null,
   "metadata": {},
   "outputs": [],
   "source": [
    "#dataset_metadata_df['NCBI_Species_Proteins']"
   ]
  },
  {
   "cell_type": "code",
   "execution_count": null,
   "metadata": {},
   "outputs": [],
   "source": [
    "#dataset_metadata_df.iloc[:, 0]"
   ]
  },
  {
   "cell_type": "code",
   "execution_count": null,
   "metadata": {},
   "outputs": [],
   "source": []
  }
 ],
 "metadata": {
  "kernelspec": {
   "display_name": "Python 3",
   "language": "python",
   "name": "python3"
  },
  "language_info": {
   "codemirror_mode": {
    "name": "ipython",
    "version": 3
   },
   "file_extension": ".py",
   "mimetype": "text/x-python",
   "name": "python",
   "nbconvert_exporter": "python",
   "pygments_lexer": "ipython3",
   "version": "3.5.4"
  }
 },
 "nbformat": 4,
 "nbformat_minor": 2
}
